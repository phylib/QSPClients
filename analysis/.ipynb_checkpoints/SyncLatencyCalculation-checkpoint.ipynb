{
 "cells": [
  {
   "cell_type": "code",
   "execution_count": 1,
   "metadata": {},
   "outputs": [],
   "source": [
    "import pandas as pd\n",
    "import glob\n",
    "from tqdm.notebook import tqdm"
   ]
  },
  {
   "cell_type": "code",
   "execution_count": 4,
   "metadata": {},
   "outputs": [],
   "source": [
    "logs = [('Server_' + x.split('_')[-1].replace('.csv', ''), x) for x in glob.glob(\"../logs/*.csv\")]\n",
    "columns = ['chunk_x', 'chunk_y', 'version', 'producer', 'produced_at']\n",
    "\n",
    "chunk_produced_map={}\n",
    "chunk_arrvied_at_server_map={}\n",
    "for (server, file) in logs:\n",
    "    columns.append(\"arrived_at_\" + server)\n",
    "    columns.append(\"sync_latency_\" + server)\n",
    "    chunk_arrvied_at_server_map[server]={}\n",
    "syncLatencies = pd.DataFrame(columns=columns)"
   ]
  },
  {
   "cell_type": "code",
   "execution_count": 5,
   "metadata": {},
   "outputs": [
    {
     "name": "stdout",
     "output_type": "stream",
     "text": [
      "Processing CSV file of server Server_2\n"
     ]
    },
    {
     "data": {
      "application/vnd.jupyter.widget-view+json": {
       "model_id": "e8ca409a16764afcb00eea9f06921725",
       "version_major": 2,
       "version_minor": 0
      },
      "text/plain": [
       "HBox(children=(FloatProgress(value=0.0, max=424179.0), HTML(value=u'')))"
      ]
     },
     "metadata": {},
     "output_type": "display_data"
    },
    {
     "name": "stdout",
     "output_type": "stream",
     "text": [
      "\n",
      "Processing CSV file of server Server_3\n"
     ]
    },
    {
     "data": {
      "application/vnd.jupyter.widget-view+json": {
       "model_id": "8351c0113a144180a600379b4c56da7d",
       "version_major": 2,
       "version_minor": 0
      },
      "text/plain": [
       "HBox(children=(FloatProgress(value=0.0, max=423873.0), HTML(value=u'')))"
      ]
     },
     "metadata": {},
     "output_type": "display_data"
    },
    {
     "name": "stdout",
     "output_type": "stream",
     "text": [
      "\n",
      "Processing CSV file of server Server_1\n"
     ]
    },
    {
     "data": {
      "application/vnd.jupyter.widget-view+json": {
       "model_id": "3949551eb37243bdafff40cec41011d1",
       "version_major": 2,
       "version_minor": 0
      },
      "text/plain": [
       "HBox(children=(FloatProgress(value=0.0, max=423375.0), HTML(value=u'')))"
      ]
     },
     "metadata": {},
     "output_type": "display_data"
    },
    {
     "name": "stdout",
     "output_type": "stream",
     "text": [
      "\n",
      "Processing CSV file of server Server_0\n"
     ]
    },
    {
     "data": {
      "application/vnd.jupyter.widget-view+json": {
       "model_id": "64819ea574b54dbfb02c2a91f56983d7",
       "version_major": 2,
       "version_minor": 0
      },
      "text/plain": [
       "HBox(children=(FloatProgress(value=0.0, max=422282.0), HTML(value=u'')))"
      ]
     },
     "metadata": {},
     "output_type": "display_data"
    },
    {
     "name": "stdout",
     "output_type": "stream",
     "text": [
      "\n"
     ]
    }
   ],
   "source": [
    "for (server, file) in logs:\n",
    "    log = pd.read_csv(file, sep='\\t', header=None, names=[\"time\", \"type\", \"x\", \"y\", \"v\"])\n",
    "    print(\"Processing CSV file of server \" + server)\n",
    "    \n",
    "    for index, row in tqdm(log.iterrows(),total=len(log)):\n",
    "        if row['type'] == 'OUT':\n",
    "            chunk_produced_map[(row['x'], row['y'], row['v'])] = (int(row['time']), server)\n",
    "        elif row['type'] == 'IN':\n",
    "            chunk_arrvied_at_server_map[server][(row['x'], row['y'], row['v'])] = int(row['time'])"
   ]
  },
  {
   "cell_type": "code",
   "execution_count": null,
   "metadata": {},
   "outputs": [],
   "source": [
    "# clear the dataframe\n",
    "syncLatencies = syncLatencies.iloc[0:0]\n",
    "\n",
    "for chunk, (timestamp, server) in tqdm(chunk_produced_map.items(), total=len(chunk_produced_map)):\n",
    "    entry = {'chunk_x':  chunk[0],\n",
    "             'chunk_y': chunk[1],\n",
    "             'version': chunk[2],\n",
    "             'producer': server,\n",
    "             'produced_at': timestamp}\n",
    "    for (server, file) in logs:\n",
    "        if chunk in chunk_arrvied_at_server_map[server]:\n",
    "            arrived_time = chunk_arrvied_at_server_map[server][chunk]\n",
    "            sync_latency = arrived_time - timestamp\n",
    "            entry[\"arrived_at_\"+server] = arrived_time\n",
    "            entry[\"sync_latency_\"+server] = sync_latency\n",
    "\n",
    "    syncLatencies = syncLatencies.append(entry, ignore_index=True)\n",
    "syncLatencies"
   ]
  },
  {
   "cell_type": "code",
   "execution_count": null,
   "metadata": {},
   "outputs": [],
   "source": []
  }
 ],
 "metadata": {
  "kernelspec": {
   "display_name": "Python 3",
   "language": "python",
   "name": "python3"
  },
  "language_info": {
   "codemirror_mode": {
    "name": "ipython",
    "version": 2
   },
   "file_extension": ".py",
   "mimetype": "text/x-python",
   "name": "python",
   "nbconvert_exporter": "python",
   "pygments_lexer": "ipython2",
   "version": "2.7.17"
  }
 },
 "nbformat": 4,
 "nbformat_minor": 2
}
